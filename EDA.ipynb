{
 "cells": [
  {
   "cell_type": "code",
   "execution_count": 1,
   "metadata": {},
   "outputs": [],
   "source": [
    "import numpy as np # linear algebra\n",
    "import pandas as pd # data processing, CSV file I/O (e.g. pd.read_csv)\n",
    "import matplotlib.pyplot as plt\n",
    "\n",
    "import matplotlib as mpl\n",
    "mpl.rcParams['font.sans-serif'] = ['SimHei']\n",
    "mpl.rcParams['font.serif'] = ['SimHei']\n",
    "import seaborn as sns\n",
    "%matplotlib inline\n",
    "p = sns.color_palette()\n",
    "sns.set_style(\"darkgrid\",{\"font.sans-serif\":['simhei', 'Arial']})\n"
   ]
  },
  {
   "cell_type": "markdown",
   "metadata": {},
   "source": [
    "# 训练集："
   ]
  },
  {
   "cell_type": "code",
   "execution_count": 2,
   "metadata": {},
   "outputs": [],
   "source": [
    "训练放款时间表 = pd.read_csv(\"D:/rong360DC/creditData/train/loan_time_train.txt\",header=None,names=['用户标识','放款时间'])\n",
    "训练放款时间表['放款时间']=训练放款时间表['放款时间']//86400   # 86400是对时间做的处理"
   ]
  },
  {
   "cell_type": "code",
   "execution_count": 3,
   "metadata": {},
   "outputs": [],
   "source": [
    "训练用户表 = pd.read_csv(\"D:/rong360DC/creditData/train/user_info_train.txt\",header=None,\n",
    "                    names=['用户标识','用户性别','用户职业','用户教育程度',\n",
    "                           '用户婚姻状态', '用户户口类型'])"
   ]
  },
  {
   "cell_type": "code",
   "execution_count": 4,
   "metadata": {},
   "outputs": [],
   "source": [
    "训练信用卡账单表=pd.read_csv(\"D:/rong360DC/creditData/train/bill_detail_train.txt\",header=None,\n",
    "                    names=['用户标识','时间','银行标识','上期账单金额','上期还款金额','信用卡额度',\n",
    "                           '本期账单余额','本期账单最低还款额','消费笔数','本期账单金额','调整金额',\n",
    "                          '循环利息','可用余额','预借现金额度','还款状态'])"
   ]
  },
  {
   "cell_type": "code",
   "execution_count": 5,
   "metadata": {},
   "outputs": [],
   "source": [
    "训练信用卡账单表['时间']=训练信用卡账单表['时间']//86400"
   ]
  },
  {
   "cell_type": "code",
   "execution_count": 6,
   "metadata": {},
   "outputs": [],
   "source": [
    "训练信用卡账单表 = pd.merge(训练信用卡账单表, 训练放款时间表,how='inner', on = \"用户标识\")"
   ]
  },
  {
   "cell_type": "code",
   "execution_count": 7,
   "metadata": {},
   "outputs": [],
   "source": [
    "用户浏览行为 = pd.read_csv(\"D:/rong360DC/creditData/train/browse_history_train.txt\",header=None,\n",
    "                    names=['用户标识', '浏览时间', '浏览行为数据', '浏览子行为编号'])\n",
    "用户浏览行为['浏览时间']=用户浏览行为['浏览时间']//86400"
   ]
  },
  {
   "cell_type": "code",
   "execution_count": 8,
   "metadata": {},
   "outputs": [],
   "source": [
    "银行流水记录=pd.read_csv(\"D:/rong360DC/creditData/train/bank_detail_train.txt\", header = None,\n",
    "                                                         names=[\"用户标识\", \"流水时间\", \"交易类型\", \"交易金额\", \"工资收入标记\"])  \n",
    "银行流水记录['流水时间']=银行流水记录['流水时间']//86400"
   ]
  },
  {
   "cell_type": "code",
   "execution_count": 9,
   "metadata": {},
   "outputs": [],
   "source": [
    "训练表 = pd.read_csv(\"D:/rong360DC/creditData/train/overdue_train.txt\",header=None,\n",
    "                    names=['用户标识','标签'])"
   ]
  },
  {
   "cell_type": "code",
   "execution_count": 10,
   "metadata": {},
   "outputs": [],
   "source": [
    "训练表 = pd.merge(训练表,训练用户表,how='inner',on = \"用户标识\")\n",
    "训练表 = pd.merge(训练表,训练放款时间表,how='inner',on = \"用户标识\")"
   ]
  },
  {
   "cell_type": "markdown",
   "metadata": {},
   "source": [
    "#  测试集："
   ]
  },
  {
   "cell_type": "code",
   "execution_count": 11,
   "metadata": {},
   "outputs": [],
   "source": [
    "测试放款时间表 = pd.read_csv(\"D:/rong360DC/creditData/test/loan_time_test.txt\",header=None,names=['用户标识','放款时间'])"
   ]
  },
  {
   "cell_type": "code",
   "execution_count": 12,
   "metadata": {},
   "outputs": [],
   "source": [
    "测试放款时间表['放款时间']=测试放款时间表['放款时间']//86400"
   ]
  },
  {
   "cell_type": "code",
   "execution_count": 13,
   "metadata": {},
   "outputs": [],
   "source": [
    "测试用户表 = pd.read_csv(\"D:/rong360DC/creditData/test/user_info_test.txt\",header=None,\n",
    "                    names=['用户标识','用户性别','用户职业','用户教育程度',\n",
    "                           '用户婚姻状态', '用户户口类型'])"
   ]
  },
  {
   "cell_type": "code",
   "execution_count": 14,
   "metadata": {},
   "outputs": [],
   "source": [
    "测试信用卡账单表=pd.read_csv(\"D:/rong360DC/creditData/test/bill_detail_test.txt\",header=None,\n",
    "                    names=['用户标识','时间','银行标识','上期账单金额','上期还款金额','信用卡额度',\n",
    "                           '本期账单余额','本期账单最低还款额','消费笔数','本期账单金额','调整金额',\n",
    "                          '循环利息','可用余额','预借现金额度','还款状态'])\n",
    "测试信用卡账单表['时间']=测试信用卡账单表['时间']//86400"
   ]
  },
  {
   "cell_type": "code",
   "execution_count": 15,
   "metadata": {},
   "outputs": [],
   "source": [
    "测试信用卡账单表 = pd.merge(测试信用卡账单表, 测试放款时间表,how='inner', on = '用户标识')"
   ]
  },
  {
   "cell_type": "code",
   "execution_count": 16,
   "metadata": {},
   "outputs": [],
   "source": [
    "测试用户浏览行为 = pd.read_csv(\"D:/rong360DC/creditData/test/browse_history_test.txt\",header=None,\n",
    "                    names=['用户标识','浏览时间','浏览行为数据','浏览子行为编号'])\n",
    "测试用户浏览行为['浏览时间'] = 测试用户浏览行为['浏览时间']//86400"
   ]
  },
  {
   "cell_type": "code",
   "execution_count": 17,
   "metadata": {},
   "outputs": [],
   "source": [
    "测试银行流水记录=pd.read_csv(\"D:/rong360DC/creditData/test/bank_detail_test.txt\", header = None,\n",
    "                                                         names=[\"用户标识\", \"流水时间\", \"交易类型\", \"交易金额\", \"工资收入标记\"])    \n",
    "测试银行流水记录['流水时间']=测试银行流水记录['流水时间']//86400"
   ]
  },
  {
   "cell_type": "code",
   "execution_count": 18,
   "metadata": {},
   "outputs": [],
   "source": [
    "\n",
    "测试表 = pd.read_csv(\"D:/rong360DC/creditData/test/usersID_test.txt\",header=None,\n",
    "                    names=['用户标识','标签'])"
   ]
  },
  {
   "cell_type": "code",
   "execution_count": 19,
   "metadata": {},
   "outputs": [],
   "source": [
    "测试表 = pd.merge(测试表,测试用户表,how='inner',on = \"用户标识\")\n",
    "测试表 = pd.merge(测试表,测试放款时间表,how='inner',on = \"用户标识\")"
   ]
  },
  {
   "cell_type": "markdown",
   "metadata": {},
   "source": [
    "## EDA:\n",
    "#### 用户基本属性分析:user_info.txt"
   ]
  },
  {
   "cell_type": "code",
   "execution_count": 20,
   "metadata": {},
   "outputs": [
    {
     "data": {
      "text/html": [
       "<div>\n",
       "<style scoped>\n",
       "    .dataframe tbody tr th:only-of-type {\n",
       "        vertical-align: middle;\n",
       "    }\n",
       "\n",
       "    .dataframe tbody tr th {\n",
       "        vertical-align: top;\n",
       "    }\n",
       "\n",
       "    .dataframe thead th {\n",
       "        text-align: right;\n",
       "    }\n",
       "</style>\n",
       "<table border=\"1\" class=\"dataframe\">\n",
       "  <thead>\n",
       "    <tr style=\"text-align: right;\">\n",
       "      <th></th>\n",
       "      <th>用户性别</th>\n",
       "      <th>逾期</th>\n",
       "      <th>总数</th>\n",
       "      <th>性别逾期比</th>\n",
       "    </tr>\n",
       "  </thead>\n",
       "  <tbody>\n",
       "    <tr>\n",
       "      <th>0</th>\n",
       "      <td>0</td>\n",
       "      <td>654</td>\n",
       "      <td>1669</td>\n",
       "      <td>0.391851</td>\n",
       "    </tr>\n",
       "    <tr>\n",
       "      <th>1</th>\n",
       "      <td>1</td>\n",
       "      <td>5638</td>\n",
       "      <td>44254</td>\n",
       "      <td>0.127401</td>\n",
       "    </tr>\n",
       "    <tr>\n",
       "      <th>2</th>\n",
       "      <td>2</td>\n",
       "      <td>891</td>\n",
       "      <td>9673</td>\n",
       "      <td>0.092112</td>\n",
       "    </tr>\n",
       "  </tbody>\n",
       "</table>\n",
       "</div>"
      ],
      "text/plain": [
       "   用户性别    逾期     总数     性别逾期比\n",
       "0     0   654   1669  0.391851\n",
       "1     1  5638  44254  0.127401\n",
       "2     2   891   9673  0.092112"
      ]
     },
     "execution_count": 20,
     "metadata": {},
     "output_type": "execute_result"
    }
   ],
   "source": [
    "性别分布=训练表.groupby('用户性别',as_index=False)['标签'].agg({'逾期' : 'sum','总数' : 'count'})\n",
    "性别分布['性别逾期比']=性别分布['逾期']/性别分布['总数']\n",
    "性别分布"
   ]
  },
  {
   "cell_type": "code",
   "execution_count": 21,
   "metadata": {},
   "outputs": [
    {
     "data": {
      "text/html": [
       "<div>\n",
       "<style scoped>\n",
       "    .dataframe tbody tr th:only-of-type {\n",
       "        vertical-align: middle;\n",
       "    }\n",
       "\n",
       "    .dataframe tbody tr th {\n",
       "        vertical-align: top;\n",
       "    }\n",
       "\n",
       "    .dataframe thead th {\n",
       "        text-align: right;\n",
       "    }\n",
       "</style>\n",
       "<table border=\"1\" class=\"dataframe\">\n",
       "  <thead>\n",
       "    <tr style=\"text-align: right;\">\n",
       "      <th></th>\n",
       "      <th>用户职业</th>\n",
       "      <th>逾期</th>\n",
       "      <th>总数</th>\n",
       "      <th>职业逾期比</th>\n",
       "    </tr>\n",
       "  </thead>\n",
       "  <tbody>\n",
       "    <tr>\n",
       "      <th>0</th>\n",
       "      <td>0</td>\n",
       "      <td>75</td>\n",
       "      <td>368</td>\n",
       "      <td>0.203804</td>\n",
       "    </tr>\n",
       "    <tr>\n",
       "      <th>1</th>\n",
       "      <td>1</td>\n",
       "      <td>17</td>\n",
       "      <td>93</td>\n",
       "      <td>0.182796</td>\n",
       "    </tr>\n",
       "    <tr>\n",
       "      <th>2</th>\n",
       "      <td>2</td>\n",
       "      <td>5204</td>\n",
       "      <td>41150</td>\n",
       "      <td>0.126464</td>\n",
       "    </tr>\n",
       "    <tr>\n",
       "      <th>3</th>\n",
       "      <td>3</td>\n",
       "      <td>746</td>\n",
       "      <td>5898</td>\n",
       "      <td>0.126484</td>\n",
       "    </tr>\n",
       "    <tr>\n",
       "      <th>4</th>\n",
       "      <td>4</td>\n",
       "      <td>1141</td>\n",
       "      <td>8087</td>\n",
       "      <td>0.141091</td>\n",
       "    </tr>\n",
       "  </tbody>\n",
       "</table>\n",
       "</div>"
      ],
      "text/plain": [
       "   用户职业    逾期     总数     职业逾期比\n",
       "0     0    75    368  0.203804\n",
       "1     1    17     93  0.182796\n",
       "2     2  5204  41150  0.126464\n",
       "3     3   746   5898  0.126484\n",
       "4     4  1141   8087  0.141091"
      ]
     },
     "execution_count": 21,
     "metadata": {},
     "output_type": "execute_result"
    }
   ],
   "source": [
    "\n",
    "职业分布=训练表.groupby('用户职业',as_index=False)['标签'].agg({'逾期' : 'sum','总数' : 'count'})\n",
    "职业分布['职业逾期比']=职业分布['逾期']/职业分布['总数']\n",
    "职业分布"
   ]
  },
  {
   "cell_type": "code",
   "execution_count": 22,
   "metadata": {},
   "outputs": [
    {
     "data": {
      "text/html": [
       "<div>\n",
       "<style scoped>\n",
       "    .dataframe tbody tr th:only-of-type {\n",
       "        vertical-align: middle;\n",
       "    }\n",
       "\n",
       "    .dataframe tbody tr th {\n",
       "        vertical-align: top;\n",
       "    }\n",
       "\n",
       "    .dataframe thead th {\n",
       "        text-align: right;\n",
       "    }\n",
       "</style>\n",
       "<table border=\"1\" class=\"dataframe\">\n",
       "  <thead>\n",
       "    <tr style=\"text-align: right;\">\n",
       "      <th></th>\n",
       "      <th>用户婚姻状态</th>\n",
       "      <th>逾期</th>\n",
       "      <th>总数</th>\n",
       "      <th>婚姻逾期比</th>\n",
       "    </tr>\n",
       "  </thead>\n",
       "  <tbody>\n",
       "    <tr>\n",
       "      <th>0</th>\n",
       "      <td>0</td>\n",
       "      <td>75</td>\n",
       "      <td>370</td>\n",
       "      <td>0.202703</td>\n",
       "    </tr>\n",
       "    <tr>\n",
       "      <th>1</th>\n",
       "      <td>1</td>\n",
       "      <td>3169</td>\n",
       "      <td>25098</td>\n",
       "      <td>0.126265</td>\n",
       "    </tr>\n",
       "    <tr>\n",
       "      <th>2</th>\n",
       "      <td>2</td>\n",
       "      <td>805</td>\n",
       "      <td>6038</td>\n",
       "      <td>0.133322</td>\n",
       "    </tr>\n",
       "    <tr>\n",
       "      <th>3</th>\n",
       "      <td>3</td>\n",
       "      <td>2909</td>\n",
       "      <td>22554</td>\n",
       "      <td>0.128979</td>\n",
       "    </tr>\n",
       "    <tr>\n",
       "      <th>4</th>\n",
       "      <td>4</td>\n",
       "      <td>210</td>\n",
       "      <td>1471</td>\n",
       "      <td>0.142760</td>\n",
       "    </tr>\n",
       "    <tr>\n",
       "      <th>5</th>\n",
       "      <td>5</td>\n",
       "      <td>15</td>\n",
       "      <td>65</td>\n",
       "      <td>0.230769</td>\n",
       "    </tr>\n",
       "  </tbody>\n",
       "</table>\n",
       "</div>"
      ],
      "text/plain": [
       "   用户婚姻状态    逾期     总数     婚姻逾期比\n",
       "0       0    75    370  0.202703\n",
       "1       1  3169  25098  0.126265\n",
       "2       2   805   6038  0.133322\n",
       "3       3  2909  22554  0.128979\n",
       "4       4   210   1471  0.142760\n",
       "5       5    15     65  0.230769"
      ]
     },
     "execution_count": 22,
     "metadata": {},
     "output_type": "execute_result"
    }
   ],
   "source": [
    "用户婚姻状态=训练表.groupby('用户婚姻状态',as_index=False)['标签'].agg({'逾期' : 'sum','总数' : 'count'})\n",
    "用户婚姻状态['婚姻逾期比']=用户婚姻状态['逾期']/用户婚姻状态['总数']\n",
    "用户婚姻状态"
   ]
  },
  {
   "cell_type": "code",
   "execution_count": 23,
   "metadata": {},
   "outputs": [
    {
     "data": {
      "text/html": [
       "<div>\n",
       "<style scoped>\n",
       "    .dataframe tbody tr th:only-of-type {\n",
       "        vertical-align: middle;\n",
       "    }\n",
       "\n",
       "    .dataframe tbody tr th {\n",
       "        vertical-align: top;\n",
       "    }\n",
       "\n",
       "    .dataframe thead th {\n",
       "        text-align: right;\n",
       "    }\n",
       "</style>\n",
       "<table border=\"1\" class=\"dataframe\">\n",
       "  <thead>\n",
       "    <tr style=\"text-align: right;\">\n",
       "      <th></th>\n",
       "      <th>用户教育程度</th>\n",
       "      <th>逾期</th>\n",
       "      <th>总数</th>\n",
       "      <th>教育程度逾期比</th>\n",
       "    </tr>\n",
       "  </thead>\n",
       "  <tbody>\n",
       "    <tr>\n",
       "      <th>0</th>\n",
       "      <td>0</td>\n",
       "      <td>75</td>\n",
       "      <td>369</td>\n",
       "      <td>0.203252</td>\n",
       "    </tr>\n",
       "    <tr>\n",
       "      <th>1</th>\n",
       "      <td>1</td>\n",
       "      <td>18</td>\n",
       "      <td>226</td>\n",
       "      <td>0.079646</td>\n",
       "    </tr>\n",
       "    <tr>\n",
       "      <th>2</th>\n",
       "      <td>2</td>\n",
       "      <td>813</td>\n",
       "      <td>8483</td>\n",
       "      <td>0.095839</td>\n",
       "    </tr>\n",
       "    <tr>\n",
       "      <th>3</th>\n",
       "      <td>3</td>\n",
       "      <td>2977</td>\n",
       "      <td>23530</td>\n",
       "      <td>0.126519</td>\n",
       "    </tr>\n",
       "    <tr>\n",
       "      <th>4</th>\n",
       "      <td>4</td>\n",
       "      <td>3300</td>\n",
       "      <td>22988</td>\n",
       "      <td>0.143553</td>\n",
       "    </tr>\n",
       "  </tbody>\n",
       "</table>\n",
       "</div>"
      ],
      "text/plain": [
       "   用户教育程度    逾期     总数   教育程度逾期比\n",
       "0       0    75    369  0.203252\n",
       "1       1    18    226  0.079646\n",
       "2       2   813   8483  0.095839\n",
       "3       3  2977  23530  0.126519\n",
       "4       4  3300  22988  0.143553"
      ]
     },
     "execution_count": 23,
     "metadata": {},
     "output_type": "execute_result"
    }
   ],
   "source": [
    "\n",
    "教育程度分布=训练表.groupby('用户教育程度',as_index=False)['标签'].agg({'逾期' : 'sum','总数' : 'count'})\n",
    "教育程度分布['教育程度逾期比']=教育程度分布['逾期']/教育程度分布['总数']\n",
    "教育程度分布"
   ]
  },
  {
   "cell_type": "code",
   "execution_count": 24,
   "metadata": {},
   "outputs": [
    {
     "data": {
      "text/html": [
       "<div>\n",
       "<style scoped>\n",
       "    .dataframe tbody tr th:only-of-type {\n",
       "        vertical-align: middle;\n",
       "    }\n",
       "\n",
       "    .dataframe tbody tr th {\n",
       "        vertical-align: top;\n",
       "    }\n",
       "\n",
       "    .dataframe thead th {\n",
       "        text-align: right;\n",
       "    }\n",
       "</style>\n",
       "<table border=\"1\" class=\"dataframe\">\n",
       "  <thead>\n",
       "    <tr style=\"text-align: right;\">\n",
       "      <th></th>\n",
       "      <th>用户户口类型</th>\n",
       "      <th>逾期</th>\n",
       "      <th>总数</th>\n",
       "      <th>户口类型逾期比</th>\n",
       "    </tr>\n",
       "  </thead>\n",
       "  <tbody>\n",
       "    <tr>\n",
       "      <th>0</th>\n",
       "      <td>0</td>\n",
       "      <td>75</td>\n",
       "      <td>369</td>\n",
       "      <td>0.203252</td>\n",
       "    </tr>\n",
       "    <tr>\n",
       "      <th>1</th>\n",
       "      <td>1</td>\n",
       "      <td>2033</td>\n",
       "      <td>17105</td>\n",
       "      <td>0.118854</td>\n",
       "    </tr>\n",
       "    <tr>\n",
       "      <th>2</th>\n",
       "      <td>2</td>\n",
       "      <td>2145</td>\n",
       "      <td>15557</td>\n",
       "      <td>0.137880</td>\n",
       "    </tr>\n",
       "    <tr>\n",
       "      <th>3</th>\n",
       "      <td>3</td>\n",
       "      <td>978</td>\n",
       "      <td>8216</td>\n",
       "      <td>0.119036</td>\n",
       "    </tr>\n",
       "    <tr>\n",
       "      <th>4</th>\n",
       "      <td>4</td>\n",
       "      <td>1952</td>\n",
       "      <td>14349</td>\n",
       "      <td>0.136037</td>\n",
       "    </tr>\n",
       "  </tbody>\n",
       "</table>\n",
       "</div>"
      ],
      "text/plain": [
       "   用户户口类型    逾期     总数   户口类型逾期比\n",
       "0       0    75    369  0.203252\n",
       "1       1  2033  17105  0.118854\n",
       "2       2  2145  15557  0.137880\n",
       "3       3   978   8216  0.119036\n",
       "4       4  1952  14349  0.136037"
      ]
     },
     "execution_count": 24,
     "metadata": {},
     "output_type": "execute_result"
    }
   ],
   "source": [
    "用户户口类型=训练表.groupby('用户户口类型',as_index=False)['标签'].agg({'逾期' : 'sum','总数' : 'count'})\n",
    "用户户口类型['户口类型逾期比']=用户户口类型['逾期']/用户户口类型['总数']\n",
    "用户户口类型"
   ]
  },
  {
   "cell_type": "code",
   "execution_count": 25,
   "metadata": {},
   "outputs": [
    {
     "data": {
      "image/png": "[encoded data removed]",
      "text/plain": [
       "<Figure size 1440x1440 with 5 Axes>"
      ]
     },
     "metadata": {
      "needs_background": "light"
     },
     "output_type": "display_data"
    }
   ],
   "source": [
    "fig = plt.figure(figsize=(20, 20))\n",
    "\n",
    "\n",
    "ax1 = fig.add_subplot(3, 2, 1)\n",
    "ax1=sns.barplot(职业分布.index, 职业分布.逾期/职业分布.总数, alpha=0.8, color=p[0], label='train')\n",
    "ax1.legend()\n",
    "#ax1.set_title(u'职业分布情况') \n",
    "ax1.set_xlabel(u'用户职业')\n",
    "ax1.set_ylabel(u'逾期用户比例')\n",
    "\n",
    "ax2 = fig.add_subplot(3, 2, 2)\n",
    "ax2=sns.barplot(性别分布.index, 性别分布.逾期/性别分布.总数, alpha=0.8, color=p[1], label='train')\n",
    "ax2.legend()\n",
    "#ax2.set_title(u'性别分布情况') \n",
    "ax2.set_xlabel(u'用户性别')\n",
    "ax2.set_ylabel(u'逾期用户比例')\n",
    "\n",
    "ax3 = fig.add_subplot(3, 2, 3)\n",
    "ax3=sns.barplot(教育程度分布.index, 教育程度分布.逾期/教育程度分布.总数, alpha=0.8, color=p[2], label='train')\n",
    "ax3.legend()\n",
    "#ax3.set_title(u'教育程度分布') \n",
    "ax3.set_xlabel(u'教育程度')\n",
    "ax3.set_ylabel(u'逾期用户比例')\n",
    "\n",
    "ax4 = fig.add_subplot(3, 2, 4)\n",
    "ax4=sns.barplot(用户婚姻状态.index, 用户婚姻状态.逾期/用户婚姻状态.总数, alpha=0.8, color=p[3], label='train')\n",
    "ax4.legend()\n",
    "#ax4.set_title(u'用户婚姻状态') \n",
    "ax4.set_xlabel(u'用户婚姻状态')\n",
    "ax4.set_ylabel(u'逾期用户比例')\n",
    "\n",
    "ax5 = fig.add_subplot(3, 2, 5)\n",
    "ax5=sns.barplot(用户户口类型.index, 用户户口类型.逾期/用户户口类型.总数, alpha=0.8, color=p[4], label='train')\n",
    "ax5.legend()\n",
    "#ax5.set_title(u'用户户口类型') \n",
    "ax5.set_xlabel(u'用户户口类型')\n",
    "ax5.set_ylabel(u'逾期用户比例')\n",
    "\n",
    "plt.show()\n"
   ]
  },
  {
   "cell_type": "markdown",
   "metadata": {},
   "source": [
    "## 信用卡账单表分析:bill_detail.txt\n",
    "\n",
    "#### 每个用户账单时间>放款时间的账单数"
   ]
  },
  {
   "cell_type": "code",
   "execution_count": 26,
   "metadata": {},
   "outputs": [],
   "source": [
    "t1=训练信用卡账单表[(训练信用卡账单表['时间']>训练信用卡账单表['放款时间'])].groupby(\"用户标识\",as_index=False)\n",
    "t2=训练信用卡账单表[(训练信用卡账单表['时间']>训练信用卡账单表['放款时间']+1)].groupby(\"用户标识\",as_index=False)\n",
    "t3=训练信用卡账单表[(训练信用卡账单表['时间']>训练信用卡账单表['放款时间']+2)].groupby(\"用户标识\",as_index=False)"
   ]
  },
  {
   "cell_type": "code",
   "execution_count": 27,
   "metadata": {},
   "outputs": [],
   "source": [
    "x=t1['时间'].apply(lambda x:np.unique(x).size)\n",
    "x1=t1['时间'].agg({'t1' : 'count'})\n",
    "x1['x1']=x\n",
    "\n",
    "x=t2['时间'].apply(lambda x:np.unique(x).size)\n",
    "x2=t2['时间'].agg({'t2' : 'count'})\n",
    "x2['x2']=x\n",
    "\n",
    "x=t3['时间'].apply(lambda x:np.unique(x).size)\n",
    "x3=t3['时间'].agg({'t3' : 'count'})\n",
    "x3['x3']=x"
   ]
  },
  {
   "cell_type": "code",
   "execution_count": 28,
   "metadata": {},
   "outputs": [],
   "source": [
    "训练表=pd.merge(训练表,x1,how='left',on = \"用户标识\")\n",
    "训练表=pd.merge(训练表,x2,how='left',on = \"用户标识\")\n",
    "训练表=pd.merge(训练表,x3,how='left',on = \"用户标识\")\n",
    "训练表=训练表.fillna(0)"
   ]
  },
  {
   "cell_type": "code",
   "execution_count": 29,
   "metadata": {},
   "outputs": [],
   "source": [
    "\n",
    "d=训练表\n",
    "l0_x1=d[(d['标签']==0)].groupby(\"x1\",as_index=False)\n",
    "l1_x1=d[(d['标签']==1)].groupby(\"x1\",as_index=False)\n",
    "\n",
    "l0_x1=l0_x1['x1'].agg({'l0_x1' : 'count'})#标签为0\n",
    "l1_x1=l1_x1['x1'].agg({'l1_x1' : 'count'})#标签为1"
   ]
  },
  {
   "cell_type": "code",
   "execution_count": 30,
   "metadata": {},
   "outputs": [
    {
     "name": "stderr",
     "output_type": "stream",
     "text": [
      "D:\\anaconda\\setiing\\lib\\site-packages\\seaborn\\axisgrid.py:230: UserWarning: The `size` paramter has been renamed to `height`; please update your code.\n",
      "  warnings.warn(msg, UserWarning)\n",
      "D:\\anaconda\\setiing\\lib\\site-packages\\seaborn\\axisgrid.py:2065: UserWarning: The `size` parameter has been renamed to `height`; pleaes update your code.\n",
      "  warnings.warn(msg, UserWarning)\n",
      "D:\\anaconda\\setiing\\lib\\site-packages\\scipy\\stats\\stats.py:1713: FutureWarning: Using a non-tuple sequence for multidimensional indexing is deprecated; use `arr[tuple(seq)]` instead of `arr[seq]`. In the future this will be interpreted as an array index, `arr[np.array(seq)]`, which will result either in an error or a different result.\n",
      "  return np.add.reduce(sorted[indexer] * weights, axis=axis) / sumval\n",
      "D:\\anaconda\\setiing\\lib\\site-packages\\statsmodels\\nonparametric\\kde.py:488: RuntimeWarning: invalid value encountered in true_divide\n",
      "  binned = fast_linbin(X, a, b, gridsize) / (delta * nobs)\n",
      "D:\\anaconda\\setiing\\lib\\site-packages\\statsmodels\\nonparametric\\kdetools.py:34: RuntimeWarning: invalid value encountered in double_scalars\n",
      "  FAC1 = 2*(np.pi*bw/RANGE)**2\n",
      "D:\\anaconda\\setiing\\lib\\site-packages\\numpy\\core\\fromnumeric.py:83: RuntimeWarning: invalid value encountered in reduce\n",
      "  return ufunc.reduce(obj, axis, dtype, out, **passkwargs)\n"
     ]
    },
    {
     "data": {
      "text/plain": [
       "<seaborn.axisgrid.PairGrid at 0x20f807aa710>"
      ]
     },
     "execution_count": 30,
     "metadata": {},
     "output_type": "execute_result"
    },
    {
     "data": {
      "image/png": "[encoded data removed]",
      "text/plain": [
       "<Figure size 401x360 with 1 Axes>"
      ]
     },
     "metadata": {
      "needs_background": "light"
     },
     "output_type": "display_data"
    },
    {
     "data": {
      "image/png": "[encoded data removed]",
      "text/plain": [
       "<Figure size 617x576 with 20 Axes>"
      ]
     },
     "metadata": {
      "needs_background": "light"
     },
     "output_type": "display_data"
    }
   ],
   "source": [
    "sns.FacetGrid(d, hue=\"标签\", size=5).map(plt.scatter, \"x1\", \"标签\").add_legend()\n",
    "xxx=d[['标签','x1','x2','x3']]\n",
    "sns.pairplot(xxx, hue=\"标签\", size=2)"
   ]
  },
  {
   "cell_type": "markdown",
   "metadata": {},
   "source": [
    "## 银行流水记录分析:bank_detail.txt\n",
    "\n",
    "#### 统计用户总(或者每月...)支出与收入的差值"
   ]
  },
  {
   "cell_type": "code",
   "execution_count": 31,
   "metadata": {},
   "outputs": [],
   "source": [
    "训练银行流水记录表 = pd.merge(银行流水记录,训练放款时间表,how='left',on = \"用户标识\")"
   ]
  },
  {
   "cell_type": "code",
   "execution_count": 32,
   "metadata": {},
   "outputs": [],
   "source": [
    "用户支出=训练银行流水记录表[(训练银行流水记录表['交易类型']==1)].groupby(\"用户标识\",as_index=False)\n",
    "用户收入=训练银行流水记录表[(训练银行流水记录表['交易类型']==0)].groupby(\"用户标识\",as_index=False)\n",
    "用户工资收入=训练银行流水记录表[(训练银行流水记录表['工资收入标记']==1)].groupby(\"用户标识\",as_index=False)"
   ]
  },
  {
   "cell_type": "code",
   "execution_count": 33,
   "metadata": {},
   "outputs": [],
   "source": [
    "用户支出=用户支出['交易金额'].agg({'用户支出' : 'sum'})\n",
    "用户收入=用户收入['交易金额'].agg({'用户收入' : 'sum'})\n",
    "用户工资收入=用户工资收入['交易金额'].agg({'用户工资收入' : 'sum'})"
   ]
  },
  {
   "cell_type": "code",
   "execution_count": 34,
   "metadata": {},
   "outputs": [],
   "source": [
    "统计表 = 训练表"
   ]
  },
  {
   "cell_type": "code",
   "execution_count": 35,
   "metadata": {},
   "outputs": [],
   "source": [
    "统计表=pd.merge(统计表,用户支出,how='left',on = \"用户标识\")\n",
    "统计表=pd.merge(统计表,用户收入,how='left',on = \"用户标识\")\n",
    "统计表=pd.merge(统计表,用户工资收入,how='left',on = \"用户标识\")"
   ]
  },
  {
   "cell_type": "code",
   "execution_count": 36,
   "metadata": {},
   "outputs": [],
   "source": [
    "统计表=统计表.fillna(0)\n",
    "统计表['入不敷出指数']=统计表['用户支出']-统计表['用户收入']"
   ]
  },
  {
   "cell_type": "code",
   "execution_count": 37,
   "metadata": {},
   "outputs": [
    {
     "name": "stderr",
     "output_type": "stream",
     "text": [
      "D:\\anaconda\\setiing\\lib\\site-packages\\seaborn\\axisgrid.py:230: UserWarning: The `size` paramter has been renamed to `height`; please update your code.\n",
      "  warnings.warn(msg, UserWarning)\n"
     ]
    },
    {
     "data": {
      "text/plain": [
       "<seaborn.axisgrid.FacetGrid at 0x20f9d416860>"
      ]
     },
     "execution_count": 37,
     "metadata": {},
     "output_type": "execute_result"
    },
    {
     "data": {
      "image/png": "[encoded data removed]",
      "text/plain": [
       "<Figure size 401x360 with 1 Axes>"
      ]
     },
     "metadata": {
      "needs_background": "light"
     },
     "output_type": "display_data"
    }
   ],
   "source": [
    "sns.FacetGrid(统计表, hue=\"标签\", size=5).map(plt.scatter, \"入不敷出指数\", \"标签\").add_legend()"
   ]
  },
  {
   "cell_type": "markdown",
   "metadata": {},
   "source": [
    "## 特征集可视化:"
   ]
  },
  {
   "cell_type": "code",
   "execution_count": 38,
   "metadata": {},
   "outputs": [],
   "source": [
    "trains = pd.read_csv(\"D:\\\\rong360DC\\\\creditData\\\\feature\\\\test_20190303_A.csv\",encoding=\"gb2312\") # 注意自己数据路径\n",
    "tests = pd.read_csv(\"D:\\\\rong360DC\\\\creditData\\\\feature\\\\train_20190303_A.csv\",encoding=\"gb2312\") # 注意自己数据路径"
   ]
  },
  {
   "cell_type": "code",
   "execution_count": 39,
   "metadata": {},
   "outputs": [
    {
     "name": "stderr",
     "output_type": "stream",
     "text": [
      "D:\\anaconda\\setiing\\lib\\site-packages\\seaborn\\axisgrid.py:230: UserWarning: The `size` paramter has been renamed to `height`; please update your code.\n",
      "  warnings.warn(msg, UserWarning)\n"
     ]
    },
    {
     "data": {
      "text/plain": [
       "<seaborn.axisgrid.FacetGrid at 0x20f9d4b6898>"
      ]
     },
     "execution_count": 39,
     "metadata": {},
     "output_type": "execute_result"
    },
    {
     "data": {
      "image/png": "[encoded data removed]",
      "text/plain": [
       "<Figure size 388x360 with 1 Axes>"
      ]
     },
     "metadata": {
      "needs_background": "light"
     },
     "output_type": "display_data"
    }
   ],
   "source": [
    "sns.FacetGrid(trains, hue=\"标签\", size=5).map(plt.scatter, \"用户标识\", \"标签\").add_legend()"
   ]
  },
  {
   "cell_type": "code",
   "execution_count": 40,
   "metadata": {},
   "outputs": [
    {
     "name": "stderr",
     "output_type": "stream",
     "text": [
      "D:\\anaconda\\setiing\\lib\\site-packages\\seaborn\\axisgrid.py:230: UserWarning: The `size` paramter has been renamed to `height`; please update your code.\n",
      "  warnings.warn(msg, UserWarning)\n"
     ]
    },
    {
     "ename": "KeyError",
     "evalue": "\"['放款前账单还款差额' '放款后账单还款差额' '放款前账单最大值还款差额(去重)' '放款后账单最大值还款差额(去重)'] not in index\"",
     "output_type": "error",
     "traceback": [
      "\u001b[1;31m---------------------------------------------------------------------------\u001b[0m",
      "\u001b[1;31mKeyError\u001b[0m                                  Traceback (most recent call last)",
      "\u001b[1;32m<ipython-input-40-4402cfc40a99>\u001b[0m in \u001b[0;36m<module>\u001b[1;34m()\u001b[0m\n\u001b[0;32m      1\u001b[0m \u001b[0msns\u001b[0m\u001b[1;33m.\u001b[0m\u001b[0mFacetGrid\u001b[0m\u001b[1;33m(\u001b[0m\u001b[0mtrains\u001b[0m\u001b[1;33m,\u001b[0m \u001b[0mhue\u001b[0m\u001b[1;33m=\u001b[0m\u001b[1;34m\"标签\"\u001b[0m\u001b[1;33m,\u001b[0m \u001b[0msize\u001b[0m\u001b[1;33m=\u001b[0m\u001b[1;36m5\u001b[0m\u001b[1;33m)\u001b[0m\u001b[1;33m.\u001b[0m\u001b[0mmap\u001b[0m\u001b[1;33m(\u001b[0m\u001b[0mplt\u001b[0m\u001b[1;33m.\u001b[0m\u001b[0mscatter\u001b[0m\u001b[1;33m,\u001b[0m \u001b[1;34m\"放款前账单还款差额\"\u001b[0m\u001b[1;33m,\u001b[0m \u001b[1;34m\"标签\"\u001b[0m\u001b[1;33m)\u001b[0m\u001b[1;33m.\u001b[0m\u001b[0madd_legend\u001b[0m\u001b[1;33m(\u001b[0m\u001b[1;33m)\u001b[0m\u001b[1;33m\u001b[0m\u001b[0m\n\u001b[1;32m----> 2\u001b[1;33m \u001b[0mxxx\u001b[0m\u001b[1;33m=\u001b[0m\u001b[0mtrains\u001b[0m\u001b[1;33m[\u001b[0m\u001b[1;33m[\u001b[0m\u001b[1;34m'标签'\u001b[0m\u001b[1;33m,\u001b[0m\u001b[1;34m'放款前账单还款差额'\u001b[0m\u001b[1;33m,\u001b[0m\u001b[1;34m'放款后账单还款差额'\u001b[0m\u001b[1;33m,\u001b[0m\u001b[1;34m'放款前账单最大值还款差额(去重)'\u001b[0m\u001b[1;33m,\u001b[0m\u001b[1;34m'放款后账单最大值还款差额(去重)'\u001b[0m\u001b[1;33m]\u001b[0m\u001b[1;33m]\u001b[0m\u001b[1;33m\u001b[0m\u001b[0m\n\u001b[0m\u001b[0;32m      3\u001b[0m \u001b[0msns\u001b[0m\u001b[1;33m.\u001b[0m\u001b[0mpairplot\u001b[0m\u001b[1;33m(\u001b[0m\u001b[0mxxx\u001b[0m\u001b[1;33m,\u001b[0m \u001b[0mhue\u001b[0m\u001b[1;33m=\u001b[0m\u001b[1;34m\"标签\"\u001b[0m\u001b[1;33m,\u001b[0m \u001b[0msize\u001b[0m\u001b[1;33m=\u001b[0m\u001b[1;36m5\u001b[0m\u001b[1;33m)\u001b[0m\u001b[1;33m\u001b[0m\u001b[0m\n",
      "\u001b[1;32mD:\\anaconda\\setiing\\lib\\site-packages\\pandas\\core\\frame.py\u001b[0m in \u001b[0;36m__getitem__\u001b[1;34m(self, key)\u001b[0m\n\u001b[0;32m   2680\u001b[0m         \u001b[1;32mif\u001b[0m \u001b[0misinstance\u001b[0m\u001b[1;33m(\u001b[0m\u001b[0mkey\u001b[0m\u001b[1;33m,\u001b[0m \u001b[1;33m(\u001b[0m\u001b[0mSeries\u001b[0m\u001b[1;33m,\u001b[0m \u001b[0mnp\u001b[0m\u001b[1;33m.\u001b[0m\u001b[0mndarray\u001b[0m\u001b[1;33m,\u001b[0m \u001b[0mIndex\u001b[0m\u001b[1;33m,\u001b[0m \u001b[0mlist\u001b[0m\u001b[1;33m)\u001b[0m\u001b[1;33m)\u001b[0m\u001b[1;33m:\u001b[0m\u001b[1;33m\u001b[0m\u001b[0m\n\u001b[0;32m   2681\u001b[0m             \u001b[1;31m# either boolean or fancy integer index\u001b[0m\u001b[1;33m\u001b[0m\u001b[1;33m\u001b[0m\u001b[0m\n\u001b[1;32m-> 2682\u001b[1;33m             \u001b[1;32mreturn\u001b[0m \u001b[0mself\u001b[0m\u001b[1;33m.\u001b[0m\u001b[0m_getitem_array\u001b[0m\u001b[1;33m(\u001b[0m\u001b[0mkey\u001b[0m\u001b[1;33m)\u001b[0m\u001b[1;33m\u001b[0m\u001b[0m\n\u001b[0m\u001b[0;32m   2683\u001b[0m         \u001b[1;32melif\u001b[0m \u001b[0misinstance\u001b[0m\u001b[1;33m(\u001b[0m\u001b[0mkey\u001b[0m\u001b[1;33m,\u001b[0m \u001b[0mDataFrame\u001b[0m\u001b[1;33m)\u001b[0m\u001b[1;33m:\u001b[0m\u001b[1;33m\u001b[0m\u001b[0m\n\u001b[0;32m   2684\u001b[0m             \u001b[1;32mreturn\u001b[0m \u001b[0mself\u001b[0m\u001b[1;33m.\u001b[0m\u001b[0m_getitem_frame\u001b[0m\u001b[1;33m(\u001b[0m\u001b[0mkey\u001b[0m\u001b[1;33m)\u001b[0m\u001b[1;33m\u001b[0m\u001b[0m\n",
      "\u001b[1;32mD:\\anaconda\\setiing\\lib\\site-packages\\pandas\\core\\frame.py\u001b[0m in \u001b[0;36m_getitem_array\u001b[1;34m(self, key)\u001b[0m\n\u001b[0;32m   2724\u001b[0m             \u001b[1;32mreturn\u001b[0m \u001b[0mself\u001b[0m\u001b[1;33m.\u001b[0m\u001b[0m_take\u001b[0m\u001b[1;33m(\u001b[0m\u001b[0mindexer\u001b[0m\u001b[1;33m,\u001b[0m \u001b[0maxis\u001b[0m\u001b[1;33m=\u001b[0m\u001b[1;36m0\u001b[0m\u001b[1;33m)\u001b[0m\u001b[1;33m\u001b[0m\u001b[0m\n\u001b[0;32m   2725\u001b[0m         \u001b[1;32melse\u001b[0m\u001b[1;33m:\u001b[0m\u001b[1;33m\u001b[0m\u001b[0m\n\u001b[1;32m-> 2726\u001b[1;33m             \u001b[0mindexer\u001b[0m \u001b[1;33m=\u001b[0m \u001b[0mself\u001b[0m\u001b[1;33m.\u001b[0m\u001b[0mloc\u001b[0m\u001b[1;33m.\u001b[0m\u001b[0m_convert_to_indexer\u001b[0m\u001b[1;33m(\u001b[0m\u001b[0mkey\u001b[0m\u001b[1;33m,\u001b[0m \u001b[0maxis\u001b[0m\u001b[1;33m=\u001b[0m\u001b[1;36m1\u001b[0m\u001b[1;33m)\u001b[0m\u001b[1;33m\u001b[0m\u001b[0m\n\u001b[0m\u001b[0;32m   2727\u001b[0m             \u001b[1;32mreturn\u001b[0m \u001b[0mself\u001b[0m\u001b[1;33m.\u001b[0m\u001b[0m_take\u001b[0m\u001b[1;33m(\u001b[0m\u001b[0mindexer\u001b[0m\u001b[1;33m,\u001b[0m \u001b[0maxis\u001b[0m\u001b[1;33m=\u001b[0m\u001b[1;36m1\u001b[0m\u001b[1;33m)\u001b[0m\u001b[1;33m\u001b[0m\u001b[0m\n\u001b[0;32m   2728\u001b[0m \u001b[1;33m\u001b[0m\u001b[0m\n",
      "\u001b[1;32mD:\\anaconda\\setiing\\lib\\site-packages\\pandas\\core\\indexing.py\u001b[0m in \u001b[0;36m_convert_to_indexer\u001b[1;34m(self, obj, axis, is_setter)\u001b[0m\n\u001b[0;32m   1325\u001b[0m                 \u001b[1;32mif\u001b[0m \u001b[0mmask\u001b[0m\u001b[1;33m.\u001b[0m\u001b[0many\u001b[0m\u001b[1;33m(\u001b[0m\u001b[1;33m)\u001b[0m\u001b[1;33m:\u001b[0m\u001b[1;33m\u001b[0m\u001b[0m\n\u001b[0;32m   1326\u001b[0m                     raise KeyError('{mask} not in index'\n\u001b[1;32m-> 1327\u001b[1;33m                                    .format(mask=objarr[mask]))\n\u001b[0m\u001b[0;32m   1328\u001b[0m \u001b[1;33m\u001b[0m\u001b[0m\n\u001b[0;32m   1329\u001b[0m                 \u001b[1;32mreturn\u001b[0m \u001b[0mcom\u001b[0m\u001b[1;33m.\u001b[0m\u001b[0m_values_from_object\u001b[0m\u001b[1;33m(\u001b[0m\u001b[0mindexer\u001b[0m\u001b[1;33m)\u001b[0m\u001b[1;33m\u001b[0m\u001b[0m\n",
      "\u001b[1;31mKeyError\u001b[0m: \"['放款前账单还款差额' '放款后账单还款差额' '放款前账单最大值还款差额(去重)' '放款后账单最大值还款差额(去重)'] not in index\""
     ]
    },
    {
     "data": {
      "image/png": "[encoded data removed]",
      "text/plain": [
       "<Figure size 388x360 with 1 Axes>"
      ]
     },
     "metadata": {
      "needs_background": "light"
     },
     "output_type": "display_data"
    }
   ],
   "source": [
    "sns.FacetGrid(trains, hue=\"标签\", size=5).map(plt.scatter, \"放款前账单还款差额\", \"标签\").add_legend()\n",
    "xxx=trains[['标签','放款前账单还款差额','放款后账单还款差额','放款前账单最大值还款差额(去重)','放款后账单最大值还款差额(去重)']]\n",
    "sns.pairplot(xxx, hue=\"标签\", size=5)"
   ]
  },
  {
   "cell_type": "code",
   "execution_count": null,
   "metadata": {},
   "outputs": [],
   "source": [
    "\n",
    "统计表=pd.merge(统计表, 性别分布,how='inner', on = '用户性别')\n",
    "统计表=pd.merge(统计表, 职业分布,how='inner', on = '用户职业')\n",
    "统计表=pd.merge(统计表, 用户婚姻状态,how='inner', on = '用户婚姻状态')\n",
    "统计表=pd.merge(统计表, 教育程度分布,how='inner', on = '用户教育程度')\n",
    "统计表=pd.merge(统计表, 用户户口类型,how='inner', on = '用户户口类型')"
   ]
  },
  {
   "cell_type": "code",
   "execution_count": null,
   "metadata": {},
   "outputs": [],
   "source": [
    "预测表=统计表\n",
    "预测表['bank预测']=预测表['入不敷出指数']\n",
    "预测表['bank预测']=预测表['bank预测']-min(预测表['bank预测'])\n",
    "预测表['bank预测']=预测表['bank预测']/max(预测表['bank预测'])\n"
   ]
  },
  {
   "cell_type": "code",
   "execution_count": null,
   "metadata": {},
   "outputs": [],
   "source": [
    "预测表['bill预测']=-(预测表['x1']+1)*(预测表['x2']+1)*(预测表['x3']+1)\n",
    "预测表['bill预测']=预测表['bill预测']-min(预测表['bill预测'])\n",
    "预测表['bill预测']=预测表['bill预测']/max(预测表['bill预测'])"
   ]
  },
  {
   "cell_type": "code",
   "execution_count": null,
   "metadata": {},
   "outputs": [],
   "source": [
    "预测表['user预测']=0.1*预测表['职业逾期比']+0.3*预测表['婚姻逾期比']+0.1*预测表['教育程度逾期比']+0.1*预测表['户口类型逾期比']+0.4*预测表['性别逾期比']"
   ]
  },
  {
   "cell_type": "code",
   "execution_count": null,
   "metadata": {},
   "outputs": [],
   "source": [
    "\n",
    "预测表['预测']=预测表['bill预测']+0.1*预测表['bank预测']+0.3*预测表['user预测']"
   ]
  },
  {
   "cell_type": "code",
   "execution_count": null,
   "metadata": {},
   "outputs": [],
   "source": [
    "print(ks(预测表['bill预测'],预测表['标签']))\n",
    "print(ks(预测表['bank预测'],预测表['标签']))\n",
    "print(ks(预测表['user预测'],预测表['标签']))\n",
    "print(ks(预测表['预测'],预测表['标签']))"
   ]
  },
  {
   "cell_type": "code",
   "execution_count": null,
   "metadata": {},
   "outputs": [],
   "source": []
  }
 ],
 "metadata": {
  "kernelspec": {
   "display_name": "Python 3",
   "language": "python",
   "name": "python3"
  },
  "language_info": {
   "codemirror_mode": {
    "name": "ipython",
    "version": 3
   },
   "file_extension": ".py",
   "mimetype": "text/x-python",
   "name": "python",
   "nbconvert_exporter": "python",
   "pygments_lexer": "ipython3",
   "version": "3.7.0"
  }
 },
 "nbformat": 4,
 "nbformat_minor": 2
}
